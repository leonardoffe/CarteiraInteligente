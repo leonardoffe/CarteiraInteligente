{
  "nbformat": 4,
  "nbformat_minor": 0,
  "metadata": {
    "colab": {
      "name": "Carteira Inteligente.ipynb",
      "provenance": [],
      "collapsed_sections": []
    },
    "kernelspec": {
      "name": "python3",
      "display_name": "Python 3"
    },
    "language_info": {
      "name": "python"
    }
  },
  "cells": [
    {
      "cell_type": "markdown",
      "source": [
        "## **Análise de Risco e Retorno da Carteira**"
      ],
      "metadata": {
        "id": "tqyouqvY448t"
      }
    },
    {
      "cell_type": "markdown",
      "source": [
        "## 1. Instalando e Importando as Biblotecas"
      ],
      "metadata": {
        "id": "oPv-oRql4PeS"
      }
    },
    {
      "cell_type": "code",
      "source": [
        "!pip install investpy\n",
        "!pip install yfinance"
      ],
      "metadata": {
        "id": "cyuVyiLq4PyU"
      },
      "execution_count": null,
      "outputs": []
    },
    {
      "cell_type": "code",
      "source": [
        "import pandas as pd\n",
        "import numpy as np\n",
        "import seaborn as sns\n",
        "import matplotlib.pyplot as plt\n",
        "import yfinance as yf"
      ],
      "metadata": {
        "id": "eRPdCFfWx327"
      },
      "execution_count": null,
      "outputs": []
    },
    {
      "cell_type": "markdown",
      "source": [
        "## 2. Coletando os Dados"
      ],
      "metadata": {
        "id": "kDzI6XrC4iwU"
      }
    },
    {
      "cell_type": "code",
      "source": [
        "ativos = [\"EQTL3.SA\", \"ITSA4.SA\", \"ABEV3.SA\", \"SULA11.SA\", \"MYPK3.SA\", \"BBSE3.SA\", \"VULC3.SA\"]"
      ],
      "metadata": {
        "id": "2uwAscBIx9rt"
      },
      "execution_count": null,
      "outputs": []
    },
    {
      "cell_type": "code",
      "source": [
        "data_inicio = '2018-01-01'\n",
        "data_fim = '2022-04-05'"
      ],
      "metadata": {
        "id": "DLhpbad0yFQb"
      },
      "execution_count": null,
      "outputs": []
    },
    {
      "cell_type": "code",
      "source": [
        "preços = pd.DataFrame()\n",
        "\n",
        "for i in ativos:\n",
        "  preços[i] = yf.download(i, start = data_inicio, end = data_fim)['Adj Close']"
      ],
      "metadata": {
        "colab": {
          "base_uri": "https://localhost:8080/"
        },
        "id": "QlwqE4vXyH9L",
        "outputId": "402cae41-f068-47d7-e2c2-bf8b8c5fdba1"
      },
      "execution_count": null,
      "outputs": [
        {
          "output_type": "stream",
          "name": "stdout",
          "text": [
            "[*********************100%***********************]  1 of 1 completed\n",
            "[*********************100%***********************]  1 of 1 completed\n",
            "[*********************100%***********************]  1 of 1 completed\n",
            "[*********************100%***********************]  1 of 1 completed\n",
            "[*********************100%***********************]  1 of 1 completed\n",
            "[*********************100%***********************]  1 of 1 completed\n",
            "[*********************100%***********************]  1 of 1 completed\n"
          ]
        }
      ]
    },
    {
      "cell_type": "markdown",
      "source": [
        "# 3. Manipulando o Dataframe"
      ],
      "metadata": {
        "id": "7MlAUe1m4udC"
      }
    },
    {
      "cell_type": "code",
      "source": [
        "ativos_retornos = preços.pct_change() # Calcula a alteração percentual da linha imediatamente anterior por padrão\n",
        "ativos_retornos = ativos_retornos.dropna()"
      ],
      "metadata": {
        "id": "ONEc968wyKNt"
      },
      "execution_count": null,
      "outputs": []
    },
    {
      "cell_type": "code",
      "source": [
        "desvio_padrao = ativos_retornos.std() # calcular o desvio padrão \n",
        "media = ativos_retornos.mean() # calcular a média\n",
        "\n",
        "volatilidade = pd.DataFrame(desvio_padrao, columns=[\"Vol\"])\n",
        "retorno_medio = pd.DataFrame(media, columns=[\"Retorno\"])"
      ],
      "metadata": {
        "id": "S1IjbjYHybFm"
      },
      "execution_count": null,
      "outputs": []
    },
    {
      "cell_type": "code",
      "source": [
        "risco_retorno = pd.concat([volatilidade, retorno_medio], axis=1) # adicionar uma coluna em um dataframe - Axis eixo a ser mexido (1 por tratar-se de uma coluna)"
      ],
      "metadata": {
        "id": "yffqMhafz4OO"
      },
      "execution_count": null,
      "outputs": []
    },
    {
      "cell_type": "markdown",
      "source": [
        "## 4. Criando o Gráfico"
      ],
      "metadata": {
        "id": "QCeICxLS404p"
      }
    },
    {
      "cell_type": "code",
      "source": [
        "plt.subplots(figsize=(12,10))\n",
        "\n",
        "grafico = sns.scatterplot(data = risco_retorno, x = \"Vol\" , y = \"Retorno\")\n",
        "\n",
        "# Fazer a caixa amarela e personalizar fonte\n",
        "for i in range(risco_retorno.shape[0]):\n",
        "  plt.text(x = risco_retorno.Vol[i], y = risco_retorno.Retorno[i],\n",
        "           s = risco_retorno.index[i], \n",
        "           fontdict = dict(color = 'red', size = 15),\n",
        "           bbox = dict(facecolor = 'yellow'))\n",
        "\n",
        "grafico.grid(True)\n",
        "grafico.plot()"
      ],
      "metadata": {
        "colab": {
          "base_uri": "https://localhost:8080/",
          "height": 623
        },
        "id": "vydWiIuh0-Kv",
        "outputId": "67bbda4f-ff31-4ff2-e014-71fe8ee0da4d"
      },
      "execution_count": null,
      "outputs": [
        {
          "output_type": "execute_result",
          "data": {
            "text/plain": [
              "[]"
            ]
          },
          "metadata": {},
          "execution_count": 75
        },
        {
          "output_type": "display_data",
          "data": {
            "text/plain": [
              "<Figure size 864x720 with 1 Axes>"
            ],
            "image/png": "[encoded data removed]"
          },
          "metadata": {
            "needs_background": "light"
          }
        }
      ]
    },
    {
      "cell_type": "code",
      "source": [
        ""
      ],
      "metadata": {
        "id": "yuLZbbFu3WXO"
      },
      "execution_count": null,
      "outputs": []
    }
  ]
}